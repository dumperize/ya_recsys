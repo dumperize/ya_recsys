{
 "cells": [
  {
   "cell_type": "code",
   "execution_count": 2,
   "metadata": {
    "colab": {
     "base_uri": "https://localhost:8080/"
    },
    "executionInfo": {
     "elapsed": 21132,
     "status": "ok",
     "timestamp": 1666897396420,
     "user": {
      "displayName": "Elena Nikolaevskaya",
      "userId": "00260841992567360325"
     },
     "user_tz": -240
    },
    "id": "daoWkBqU01Ow",
    "outputId": "7f41d2ee-3f4a-452e-af3f-3c65c03d8e8f"
   },
   "outputs": [
    {
     "name": "stdout",
     "output_type": "stream",
     "text": [
      "Mounted at /content/drive/\n"
     ]
    }
   ],
   "source": [
    "from google.colab import drive\n",
    "drive.mount('/content/drive/')"
   ]
  },
  {
   "cell_type": "code",
   "execution_count": 3,
   "metadata": {
    "executionInfo": {
     "elapsed": 352,
     "status": "ok",
     "timestamp": 1666897422536,
     "user": {
      "displayName": "Elena Nikolaevskaya",
      "userId": "00260841992567360325"
     },
     "user_tz": -240
    },
    "id": "Bd-zGB7K0-Sw"
   },
   "outputs": [],
   "source": [
    "global_path =  '/content/drive/MyDrive/Colab Notebooks/likes/'"
   ]
  },
  {
   "cell_type": "code",
   "execution_count": 4,
   "metadata": {
    "executionInfo": {
     "elapsed": 62080,
     "status": "ok",
     "timestamp": 1666897497277,
     "user": {
      "displayName": "Elena Nikolaevskaya",
      "userId": "00260841992567360325"
     },
     "user_tz": -240
    },
    "id": "WOx-PjFm0sTK"
   },
   "outputs": [],
   "source": [
    "track_stats = {}\n",
    "\n",
    "with open(global_path + 'train') as f:\n",
    "    lines = f.readlines()\n",
    "    for line in lines:\n",
    "        tracks = line.strip().split(' ')\n",
    "        for track in tracks:\n",
    "            if track not in track_stats:\n",
    "                track_stats[track] = 0\n",
    "            track_stats[track] += 1"
   ]
  },
  {
   "cell_type": "code",
   "execution_count": 6,
   "metadata": {
    "executionInfo": {
     "elapsed": 2221,
     "status": "ok",
     "timestamp": 1666897538143,
     "user": {
      "displayName": "Elena Nikolaevskaya",
      "userId": "00260841992567360325"
     },
     "user_tz": -240
    },
    "id": "p12tVbYZ1aYY"
   },
   "outputs": [],
   "source": [
    "with open(global_path + 'test') as f:\n",
    "    test = f.readlines()\n",
    "\n",
    "popular_tracks = sorted(track_stats.items(), key=lambda item: item[1], reverse=True)[:100]\n",
    "popular_tracks_list = [x[0] for x in popular_tracks]\n",
    "\n",
    "top_tracks = sorted(track_stats.items(), key=lambda item: item[1], reverse=True)[:1000]\n",
    "top_tracks_set = set([x[0] for x in top_tracks])\n",
    "\n",
    "global_track_score = {}\n",
    "for track in top_tracks:\n",
    "    global_track_score[track[0]] = track_stats[track[0]] ** 0.5\n",
    "\n",
    "track_count = {}"
   ]
  },
  {
   "cell_type": "code",
   "execution_count": 8,
   "metadata": {
    "executionInfo": {
     "elapsed": 457358,
     "status": "ok",
     "timestamp": 1666898063811,
     "user": {
      "displayName": "Elena Nikolaevskaya",
      "userId": "00260841992567360325"
     },
     "user_tz": -240
    },
    "id": "pEYdvFZG1uhE"
   },
   "outputs": [],
   "source": [
    "with open(global_path + 'train') as f:\n",
    "    lines = f.readlines()\n",
    "    for (i, line) in enumerate(lines):\n",
    "        tracks = line.strip().split(' ')\n",
    "        filtered_tracks = []\n",
    "        for track in tracks:\n",
    "            if track in top_tracks_set:\n",
    "                filtered_tracks.append(track)\n",
    "        for i in range(len(filtered_tracks)):\n",
    "            track1 = filtered_tracks[i]\n",
    "            for j in range(len(filtered_tracks)):\n",
    "                if i != j:\n",
    "                    track2 = filtered_tracks[j]\n",
    "                    if track1 not in track_count:\n",
    "                        track_count[track1] = {}\n",
    "                    current_count = track_count[track1]\n",
    "                    if track2 not in current_count:\n",
    "                        current_count[track2] = 0\n",
    "                    current_count[track2] += 1"
   ]
  },
  {
   "cell_type": "code",
   "execution_count": 9,
   "metadata": {
    "colab": {
     "base_uri": "https://localhost:8080/",
     "height": 240
    },
    "executionInfo": {
     "elapsed": 893290,
     "status": "error",
     "timestamp": 1666899253079,
     "user": {
      "displayName": "Elena Nikolaevskaya",
      "userId": "00260841992567360325"
     },
     "user_tz": -240
    },
    "id": "a_OVG6kzzF4C",
    "outputId": "1d09a99c-5340-4118-efc8-2b5235022e3b"
   },
   "outputs": [
    {
     "ename": "KeyboardInterrupt",
     "evalue": "ignored",
     "output_type": "error",
     "traceback": [
      "\u001b[0;31m---------------------------------------------------------------------------\u001b[0m",
      "\u001b[0;31mKeyboardInterrupt\u001b[0m                         Traceback (most recent call last)",
      "\u001b[0;32m<ipython-input-9-3825f310424c>\u001b[0m in \u001b[0;36m<module>\u001b[0;34m\u001b[0m\n\u001b[1;32m      7\u001b[0m         \u001b[0;32mif\u001b[0m \u001b[0mtrack\u001b[0m \u001b[0;32min\u001b[0m \u001b[0mtrack_count\u001b[0m\u001b[0;34m:\u001b[0m\u001b[0;34m\u001b[0m\u001b[0;34m\u001b[0m\u001b[0m\n\u001b[1;32m      8\u001b[0m             \u001b[0;32mfor\u001b[0m \u001b[0mtrack_id\u001b[0m \u001b[0;32min\u001b[0m \u001b[0mtrack_count\u001b[0m\u001b[0;34m[\u001b[0m\u001b[0mtrack\u001b[0m\u001b[0;34m]\u001b[0m\u001b[0;34m:\u001b[0m\u001b[0;34m\u001b[0m\u001b[0;34m\u001b[0m\u001b[0m\n\u001b[0;32m----> 9\u001b[0;31m                 \u001b[0mscore\u001b[0m \u001b[0;34m=\u001b[0m \u001b[0mtrack_count\u001b[0m\u001b[0;34m[\u001b[0m\u001b[0mtrack\u001b[0m\u001b[0;34m]\u001b[0m\u001b[0;34m[\u001b[0m\u001b[0mtrack_id\u001b[0m\u001b[0;34m]\u001b[0m\u001b[0;34m\u001b[0m\u001b[0;34m\u001b[0m\u001b[0m\n\u001b[0m\u001b[1;32m     10\u001b[0m                 \u001b[0;32mif\u001b[0m \u001b[0mtrack_id\u001b[0m \u001b[0;32mnot\u001b[0m \u001b[0;32min\u001b[0m \u001b[0mtrack_score\u001b[0m\u001b[0;34m:\u001b[0m\u001b[0;34m\u001b[0m\u001b[0;34m\u001b[0m\u001b[0m\n\u001b[1;32m     11\u001b[0m                     \u001b[0mtrack_score\u001b[0m\u001b[0;34m[\u001b[0m\u001b[0mtrack_id\u001b[0m\u001b[0;34m]\u001b[0m \u001b[0;34m=\u001b[0m \u001b[0;36m0\u001b[0m\u001b[0;34m\u001b[0m\u001b[0;34m\u001b[0m\u001b[0m\n",
      "\u001b[0;31mKeyboardInterrupt\u001b[0m: "
     ]
    }
   ],
   "source": [
    "result = []\n",
    "empty_track_score = 0\n",
    "for query in test:\n",
    "    test_tracks = query.strip().split(' ')\n",
    "    track_score = {}\n",
    "    for track in test_tracks:\n",
    "        if track in track_count:\n",
    "            for track_id in track_count[track]:\n",
    "                score = track_count[track][track_id]\n",
    "                if track_id not in track_score:\n",
    "                    track_score[track_id] = 0\n",
    "                track_score[track_id] += score / global_track_score[track] / global_track_score[track_id]\n",
    "    if len(track_score) == 0:\n",
    "        result.append(' '.join(popular_tracks_list) + '\\n')\n",
    "        empty_track_score += 1\n",
    "    else:\n",
    "        best_tracks = sorted(track_score.items(), key=lambda item: item[1], reverse=True)[:100]\n",
    "        result.append(' '.join([x[0] for x in best_tracks]) + '\\n')\n",
    "\n",
    "with open(global_path +'result', 'w') as f:\n",
    "    f.writelines(result)"
   ]
  },
  {
   "cell_type": "code",
   "execution_count": null,
   "metadata": {
    "id": "BPzZMD8P1knO"
   },
   "outputs": [],
   "source": []
  }
 ],
 "metadata": {
  "colab": {
   "authorship_tag": "ABX9TyMC2xiMPNHVFvqi7n8jqYYI",
   "provenance": []
  },
  "kernelspec": {
   "display_name": "Python 3 (ipykernel)",
   "language": "python",
   "name": "python3"
  },
  "language_info": {
   "codemirror_mode": {
    "name": "ipython",
    "version": 3
   },
   "file_extension": ".py",
   "mimetype": "text/x-python",
   "name": "python",
   "nbconvert_exporter": "python",
   "pygments_lexer": "ipython3",
   "version": "3.10.6"
  }
 },
 "nbformat": 4,
 "nbformat_minor": 1
}
