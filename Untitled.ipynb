{
 "cells": [
  {
   "cell_type": "code",
   "execution_count": 1,
   "id": "058089b7",
   "metadata": {},
   "outputs": [],
   "source": [
    "# !pip install implicit\n",
    "\n",
    "import sys\n",
    "sys.path.append('ya/lib/python3.10/site-packages')"
   ]
  },
  {
   "cell_type": "code",
   "execution_count": 2,
   "id": "b4d1476a",
   "metadata": {},
   "outputs": [],
   "source": [
    "import pandas as pd\n",
    "import numpy as np\n",
    "import implicit\n",
    "from tqdm import tqdm\n",
    "import json\n",
    "from scipy import sparse as sp"
   ]
  },
  {
   "cell_type": "code",
   "execution_count": 3,
   "id": "5b725e54",
   "metadata": {},
   "outputs": [],
   "source": [
    "# df = pd.read_csv('train', header=None)"
   ]
  },
  {
   "cell_type": "code",
   "execution_count": 4,
   "id": "7afc9e41",
   "metadata": {},
   "outputs": [],
   "source": [
    "# data = df[0].apply(lambda x: x.split(' '))"
   ]
  },
  {
   "cell_type": "code",
   "execution_count": 5,
   "id": "a9136429",
   "metadata": {},
   "outputs": [],
   "source": [
    "# max(data.apply(lambda x: len(x)))"
   ]
  },
  {
   "cell_type": "code",
   "execution_count": 6,
   "id": "7a282e7c",
   "metadata": {},
   "outputs": [],
   "source": [
    "# def pad(arr):\n",
    "#     l = len(arr)\n",
    "#     return [None] * (255-l)+arr"
   ]
  },
  {
   "cell_type": "code",
   "execution_count": 7,
   "id": "cd76eee1",
   "metadata": {},
   "outputs": [],
   "source": [
    "# X=data.apply(lambda x: pad(x))"
   ]
  },
  {
   "cell_type": "code",
   "execution_count": 8,
   "id": "935ab108",
   "metadata": {},
   "outputs": [],
   "source": [
    "# X.apply(lambda x: len(x)).describe()"
   ]
  },
  {
   "cell_type": "code",
   "execution_count": 9,
   "id": "9de76427",
   "metadata": {},
   "outputs": [],
   "source": [
    "# df = pd.DataFrame.from_dict(dict(zip(X.index, X.values))).T"
   ]
  },
  {
   "cell_type": "code",
   "execution_count": 10,
   "id": "7df024ff",
   "metadata": {},
   "outputs": [],
   "source": [
    "# df.to_csv('formated_test')"
   ]
  },
  {
   "cell_type": "code",
   "execution_count": 11,
   "id": "e4ab788e",
   "metadata": {},
   "outputs": [],
   "source": [
    "# df = pd.read_csv('formated_train', index_col=0)"
   ]
  },
  {
   "cell_type": "code",
   "execution_count": 12,
   "id": "db6536d3",
   "metadata": {},
   "outputs": [],
   "source": [
    "# df = df[:500]"
   ]
  },
  {
   "cell_type": "code",
   "execution_count": 13,
   "id": "f5deac5f",
   "metadata": {},
   "outputs": [],
   "source": [
    "# df"
   ]
  },
  {
   "cell_type": "code",
   "execution_count": 14,
   "id": "ae6eb86c",
   "metadata": {},
   "outputs": [],
   "source": [
    "# bigset = set()\n",
    "# for x in df:\n",
    "#     s = [int(x) for x in df[str(x)].values if pd.notna(x)]\n",
    "#     bigset.update(s)"
   ]
  },
  {
   "cell_type": "code",
   "execution_count": 15,
   "id": "37f0539d",
   "metadata": {},
   "outputs": [],
   "source": [
    "# len(bigset)"
   ]
  },
  {
   "cell_type": "code",
   "execution_count": 16,
   "id": "6b56156e",
   "metadata": {},
   "outputs": [],
   "source": [
    "track_csv_path = 'track_artists.csv'\n",
    "class ProductEncoder:\n",
    "    def __init__(self, track_csv_path):\n",
    "        self.track_idx = {}\n",
    "        self.track_pid = {}\n",
    "        for idx, pid in enumerate(pd.read_csv(track_csv_path).trackId.values):\n",
    "            self.track_idx[pid] = idx\n",
    "            self.track_pid[idx] = pid\n",
    "\n",
    "    def toIdx(self, x):\n",
    "        if type(x) == int:\n",
    "            pid = x\n",
    "            return self.track_idx[pid]\n",
    "        return [self.track_idx[pid] for pid in x]\n",
    "\n",
    "    def toPid(self, x):\n",
    "        if type(x) == int:\n",
    "            idx = x\n",
    "            return self.track_pid[idx]\n",
    "        return [self.track_pid[idx] for idx in x]\n",
    "\n",
    "    @property\n",
    "    def num_products(self):\n",
    "        return len(self.track_idx)"
   ]
  },
  {
   "cell_type": "code",
   "execution_count": 17,
   "id": "65bcce26",
   "metadata": {},
   "outputs": [],
   "source": [
    "def make_coo_row(tracks_history, product_encoder: ProductEncoder):\n",
    "    idx = []\n",
    "    values = []\n",
    "\n",
    "    items = []\n",
    "    items.extend([trans['id'] for trans in tracks_history])\n",
    "    n_items = len(items)\n",
    "\n",
    "    for pid in items:\n",
    "        idx.append(product_encoder.toIdx(pid))\n",
    "        values.append(1.0)\n",
    "\n",
    "    return sp.coo_matrix(\n",
    "        (np.array(values).astype(np.float32), ([0] * len(idx), idx)), shape=(1, product_encoder.num_products),\n",
    "    )"
   ]
  },
  {
   "cell_type": "code",
   "execution_count": 18,
   "id": "16591319",
   "metadata": {},
   "outputs": [],
   "source": [
    "product_encoder = ProductEncoder(track_csv_path)"
   ]
  },
  {
   "cell_type": "code",
   "execution_count": 19,
   "id": "5f995088",
   "metadata": {},
   "outputs": [],
   "source": [
    "def average_precision(actual, recommended, k=30):\n",
    "    ap_sum = 0\n",
    "    hits = 0\n",
    "    for i in range(k):\n",
    "        product_id = recommended[i] if i < len(recommended) else None\n",
    "        if product_id is not None and product_id in actual:\n",
    "            hits += 1\n",
    "            ap_sum += hits / (i + 1)\n",
    "    return ap_sum / k\n",
    "\n",
    "\n",
    "def normalized_average_precision(actual, recommended, k=30):\n",
    "    actual = set(actual)\n",
    "    if len(actual) == 0:\n",
    "        return 0.0\n",
    "\n",
    "    ap = average_precision(actual, recommended, k=k)\n",
    "    ap_ideal = average_precision(actual, list(actual)[:k], k=k)\n",
    "    return ap / ap_ideal"
   ]
  },
  {
   "cell_type": "code",
   "execution_count": 20,
   "id": "f7c1c923",
   "metadata": {},
   "outputs": [],
   "source": [
    "def get_shard_path(n_shard, jsons_dir='json'):\n",
    "    return \"{}/{:02d}.jsons\".format(jsons_dir, n_shard)"
   ]
  },
  {
   "cell_type": "code",
   "execution_count": 21,
   "id": "80fbd049",
   "metadata": {},
   "outputs": [
    {
     "name": "stderr",
     "output_type": "stream",
     "text": [
      "72746it [00:22, 3284.52it/s]\n"
     ]
    }
   ],
   "source": [
    "rows = []\n",
    "for i in range(1):\n",
    "    for js in tqdm((json.loads(s) for s in open(get_shard_path(i)))):\n",
    "#         print(js['tracks'])\n",
    "        rows.append(make_coo_row(js['tracks'], product_encoder))\n",
    "train_mat = sp.vstack(rows)"
   ]
  },
  {
   "cell_type": "code",
   "execution_count": 22,
   "id": "dee88d30",
   "metadata": {},
   "outputs": [],
   "source": [
    "train_mat = train_mat.T"
   ]
  },
  {
   "cell_type": "code",
   "execution_count": 23,
   "id": "a500cd40",
   "metadata": {},
   "outputs": [],
   "source": [
    "model = implicit.nearest_neighbours.TFIDFRecommender(K=30)"
   ]
  },
  {
   "cell_type": "code",
   "execution_count": 24,
   "id": "81b5904a",
   "metadata": {},
   "outputs": [
    {
     "name": "stderr",
     "output_type": "stream",
     "text": [
      "/Users/user/Documents/py/ya_recsys/ya/lib/python3.10/site-packages/implicit/utils.py:138: ParameterWarning: Method expects CSR input, and was passed coo_matrix instead. Converting to CSR took 0.4978301525115967 seconds\n",
      "  warnings.warn(\n"
     ]
    },
    {
     "data": {
      "application/vnd.jupyter.widget-view+json": {
       "model_id": "3535c7ca4e7f4d9382e8d3619c7d0180",
       "version_major": 2,
       "version_minor": 0
      },
      "text/plain": [
       "HBox(children=(FloatProgress(value=0.0, max=72746.0), HTML(value='')))"
      ]
     },
     "metadata": {},
     "output_type": "display_data"
    },
    {
     "name": "stdout",
     "output_type": "stream",
     "text": [
      "\n"
     ]
    }
   ],
   "source": [
    "model.fit(train_mat)"
   ]
  },
  {
   "cell_type": "code",
   "execution_count": 25,
   "id": "4f088129",
   "metadata": {},
   "outputs": [],
   "source": [
    "s = open(get_shard_path(15))"
   ]
  },
  {
   "cell_type": "code",
   "execution_count": 26,
   "id": "f83eaf50",
   "metadata": {},
   "outputs": [],
   "source": [
    "row = next(s)"
   ]
  },
  {
   "cell_type": "code",
   "execution_count": 27,
   "id": "1a279dd7",
   "metadata": {},
   "outputs": [],
   "source": [
    "row = make_coo_row(js['tracks'], product_encoder).tocsr()"
   ]
  },
  {
   "cell_type": "code",
   "execution_count": null,
   "id": "1bcefcc1",
   "metadata": {},
   "outputs": [],
   "source": [
    "raw_recs = model.recommend(userid=0, \n",
    "                                   user_items=row, \n",
    "                                   N=30, \n",
    "                                   filter_already_liked_items=True, \n",
    "                                   recalculate_user=True\n",
    "        )"
   ]
  },
  {
   "cell_type": "code",
   "execution_count": null,
   "id": "bfad408a",
   "metadata": {},
   "outputs": [],
   "source": [
    "for js in tqdm((json.loads(s) for s in open(get_shard_path(15)))):\n",
    "        row = make_coo_row(js['tracks'], product_encoder).tocsr()\n",
    "        \n",
    "        raw_recs = model.recommend(userid=0, \n",
    "                                   user_items=row, \n",
    "                                   N=100, \n",
    "                                   filter_already_liked_items=True, \n",
    "                                   recalculate_user=True\n",
    "        )"
   ]
  },
  {
   "cell_type": "code",
   "execution_count": null,
   "id": "3b19c7ea",
   "metadata": {},
   "outputs": [
    {
     "name": "stderr",
     "output_type": "stream",
     "text": [
      "/Users/user/Documents/py/ya_recsys/ya/lib/python3.10/site-packages/implicit/utils.py:138: ParameterWarning: Method expects CSR input, and was passed coo_matrix instead. Converting to CSR took 0.577164888381958 seconds\n",
      "  warnings.warn(\n"
     ]
    },
    {
     "data": {
      "application/vnd.jupyter.widget-view+json": {
       "model_id": "0485e20fc01c417cb1d07b23a44148a9",
       "version_major": 2,
       "version_minor": 0
      },
      "text/plain": [
       "HBox(children=(FloatProgress(value=0.0, max=72746.0), HTML(value='')))"
      ]
     },
     "metadata": {},
     "output_type": "display_data"
    },
    {
     "name": "stderr",
     "output_type": "stream",
     "text": [
      "\r",
      "0it [00:00, ?it/s]"
     ]
    }
   ],
   "source": [
    "for model, tag in [\n",
    "    (implicit.nearest_neighbours.TFIDFRecommender(K=30), \"tfidf200\"),\n",
    "    (implicit.nearest_neighbours.TFIDFRecommender(K=2), \"tfidf2\"),\n",
    "    (implicit.nearest_neighbours.CosineRecommender(K=2), \"cosine2\"),\n",
    "    (implicit.nearest_neighbours.CosineRecommender(K=1), \"cosine1\"),\n",
    "    (implicit.nearest_neighbours.CosineRecommender(K=2), \"cosine2\"),\n",
    "    (implicit.nearest_neighbours.CosineRecommender(K=3), \"cosine3\"),\n",
    "    (implicit.nearest_neighbours.CosineRecommender(K=5), \"cosine5\"),\n",
    "    (implicit.nearest_neighbours.CosineRecommender(K=10), \"cosine10\"),\n",
    "    (implicit.nearest_neighbours.CosineRecommender(K=20), \"cosine20\"),\n",
    "    (implicit.nearest_neighbours.CosineRecommender(K=30), \"cosine30\"),\n",
    "    (implicit.nearest_neighbours.CosineRecommender(K=50), \"cosine50\")\n",
    "    \n",
    "]:\n",
    "    scores = []\n",
    "    model.fit(train_mat)\n",
    "    for js in tqdm((json.loads(s) for s in open(get_shard_path(15)))):\n",
    "\n",
    "        row = make_coo_row(js['tracks'], product_encoder).tocsr()\n",
    "        raw_recs = model.recommend(userid=0, \n",
    "                                   user_items=row, \n",
    "                                   N=100, \n",
    "                                   filter_already_liked_items=True, \n",
    "                                   recalculate_user=True\n",
    "        )\n",
    "        print(raw_recs)\n",
    "        recommended_items = product_encoder.toPid(raw_recs[0])\n",
    "#         recommended_items\n",
    "        gt_items = [js[\"target\"][\"id\"]]\n",
    "        ap = normalized_average_precision(gt_items, recommended_items)\n",
    "        scores.append(ap)\n",
    "    print(tag, np.mean(scores))\n",
    "    "
   ]
  },
  {
   "cell_type": "code",
   "execution_count": null,
   "id": "0d4dc61d",
   "metadata": {},
   "outputs": [],
   "source": []
  },
  {
   "cell_type": "code",
   "execution_count": null,
   "id": "29befa73",
   "metadata": {},
   "outputs": [],
   "source": []
  }
 ],
 "metadata": {
  "kernelspec": {
   "display_name": "Python 3 (ipykernel)",
   "language": "python",
   "name": "python3"
  },
  "language_info": {
   "codemirror_mode": {
    "name": "ipython",
    "version": 3
   },
   "file_extension": ".py",
   "mimetype": "text/x-python",
   "name": "python",
   "nbconvert_exporter": "python",
   "pygments_lexer": "ipython3",
   "version": "3.10.0"
  }
 },
 "nbformat": 4,
 "nbformat_minor": 5
}
