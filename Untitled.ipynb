{
 "cells": [
  {
   "cell_type": "code",
   "execution_count": 58,
   "id": "9d806a54",
   "metadata": {},
   "outputs": [
    {
     "name": "stdout",
     "output_type": "stream",
     "text": [
      "Defaulting to user installation because normal site-packages is not writeable\n",
      "Collecting implicit\n",
      "  Downloading implicit-0.6.1-cp310-cp310-manylinux2014_x86_64.whl (18.6 MB)\n",
      "\u001b[2K     \u001b[38;2;114;156;31m━━━━━━━━━━━━━━━━━━━━━━━━━━━━━━━━━━━━━━━━\u001b[0m \u001b[32m18.6/18.6 MB\u001b[0m \u001b[31m5.1 MB/s\u001b[0m eta \u001b[36m0:00:00\u001b[0mm eta \u001b[36m0:00:01\u001b[0m[36m0:00:01\u001b[0m\n",
      "\u001b[?25hRequirement already satisfied: tqdm>=4.27 in /home/cosysoft/.local/lib/python3.10/site-packages (from implicit) (4.64.0)\n",
      "Requirement already satisfied: numpy in /home/cosysoft/.local/lib/python3.10/site-packages (from implicit) (1.21.5)\n",
      "Requirement already satisfied: scipy>=0.16 in /home/cosysoft/.local/lib/python3.10/site-packages (from implicit) (1.7.3)\n",
      "Installing collected packages: implicit\n",
      "Successfully installed implicit-0.6.1\n",
      "\u001b[33mWARNING: There was an error checking the latest version of pip.\u001b[0m\u001b[33m\n",
      "\u001b[0m"
     ]
    }
   ],
   "source": [
    "!pip install implicit"
   ]
  },
  {
   "cell_type": "code",
   "execution_count": 69,
   "id": "b4d1476a",
   "metadata": {},
   "outputs": [],
   "source": [
    "import pandas as pd\n",
    "import numpy as np\n",
    "import implicit\n",
    "from tqdm import tqdm\n",
    "import json"
   ]
  },
  {
   "cell_type": "code",
   "execution_count": 11,
   "id": "5b725e54",
   "metadata": {},
   "outputs": [],
   "source": [
    "df = pd.read_csv('test', header=None)"
   ]
  },
  {
   "cell_type": "code",
   "execution_count": 12,
   "id": "7afc9e41",
   "metadata": {},
   "outputs": [],
   "source": [
    "data = df[0].apply(lambda x: x.split(' '))"
   ]
  },
  {
   "cell_type": "code",
   "execution_count": 13,
   "id": "a9136429",
   "metadata": {},
   "outputs": [
    {
     "data": {
      "text/plain": [
       "255"
      ]
     },
     "execution_count": 13,
     "metadata": {},
     "output_type": "execute_result"
    }
   ],
   "source": [
    "max(data.apply(lambda x: len(x)))"
   ]
  },
  {
   "cell_type": "code",
   "execution_count": 14,
   "id": "7a282e7c",
   "metadata": {},
   "outputs": [],
   "source": [
    "def pad(arr):\n",
    "    l = len(arr)\n",
    "    return [None] * (255-l)+arr"
   ]
  },
  {
   "cell_type": "code",
   "execution_count": 15,
   "id": "cd76eee1",
   "metadata": {},
   "outputs": [],
   "source": [
    "X=data.apply(lambda x: pad(x))"
   ]
  },
  {
   "cell_type": "code",
   "execution_count": 16,
   "id": "04d3adaa",
   "metadata": {},
   "outputs": [
    {
     "data": {
      "text/plain": [
       "count    289914.0\n",
       "mean        255.0\n",
       "std           0.0\n",
       "min         255.0\n",
       "25%         255.0\n",
       "50%         255.0\n",
       "75%         255.0\n",
       "max         255.0\n",
       "Name: 0, dtype: float64"
      ]
     },
     "execution_count": 16,
     "metadata": {},
     "output_type": "execute_result"
    }
   ],
   "source": [
    "X.apply(lambda x: len(x)).describe()"
   ]
  },
  {
   "cell_type": "code",
   "execution_count": 17,
   "id": "9de76427",
   "metadata": {},
   "outputs": [],
   "source": [
    "df = pd.DataFrame.from_dict(dict(zip(X.index, X.values))).T"
   ]
  },
  {
   "cell_type": "code",
   "execution_count": 18,
   "id": "5655342e",
   "metadata": {},
   "outputs": [],
   "source": [
    "df.to_csv('formated_test')"
   ]
  },
  {
   "cell_type": "code",
   "execution_count": 34,
   "id": "f6628fa6",
   "metadata": {},
   "outputs": [],
   "source": [
    "df = pd.read_csv('formated_train', index_col=0)"
   ]
  },
  {
   "cell_type": "code",
   "execution_count": 35,
   "id": "af3566d2",
   "metadata": {},
   "outputs": [],
   "source": [
    "df = df[:500]"
   ]
  },
  {
   "cell_type": "code",
   "execution_count": 36,
   "id": "83101149",
   "metadata": {},
   "outputs": [
    {
     "data": {
      "text/html": [
       "<div>\n",
       "<style scoped>\n",
       "    .dataframe tbody tr th:only-of-type {\n",
       "        vertical-align: middle;\n",
       "    }\n",
       "\n",
       "    .dataframe tbody tr th {\n",
       "        vertical-align: top;\n",
       "    }\n",
       "\n",
       "    .dataframe thead th {\n",
       "        text-align: right;\n",
       "    }\n",
       "</style>\n",
       "<table border=\"1\" class=\"dataframe\">\n",
       "  <thead>\n",
       "    <tr style=\"text-align: right;\">\n",
       "      <th></th>\n",
       "      <th>0</th>\n",
       "      <th>1</th>\n",
       "      <th>2</th>\n",
       "      <th>3</th>\n",
       "      <th>4</th>\n",
       "      <th>5</th>\n",
       "      <th>6</th>\n",
       "      <th>7</th>\n",
       "      <th>8</th>\n",
       "      <th>9</th>\n",
       "      <th>...</th>\n",
       "      <th>246</th>\n",
       "      <th>247</th>\n",
       "      <th>248</th>\n",
       "      <th>249</th>\n",
       "      <th>250</th>\n",
       "      <th>251</th>\n",
       "      <th>252</th>\n",
       "      <th>253</th>\n",
       "      <th>254</th>\n",
       "      <th>255</th>\n",
       "    </tr>\n",
       "  </thead>\n",
       "  <tbody>\n",
       "    <tr>\n",
       "      <th>0</th>\n",
       "      <td>NaN</td>\n",
       "      <td>NaN</td>\n",
       "      <td>NaN</td>\n",
       "      <td>NaN</td>\n",
       "      <td>NaN</td>\n",
       "      <td>NaN</td>\n",
       "      <td>NaN</td>\n",
       "      <td>NaN</td>\n",
       "      <td>NaN</td>\n",
       "      <td>NaN</td>\n",
       "      <td>...</td>\n",
       "      <td>122447.0</td>\n",
       "      <td>319811.0</td>\n",
       "      <td>352770.0</td>\n",
       "      <td>196872</td>\n",
       "      <td>95202</td>\n",
       "      <td>159637</td>\n",
       "      <td>470957</td>\n",
       "      <td>102795</td>\n",
       "      <td>278503</td>\n",
       "      <td>388242</td>\n",
       "    </tr>\n",
       "    <tr>\n",
       "      <th>1</th>\n",
       "      <td>NaN</td>\n",
       "      <td>NaN</td>\n",
       "      <td>NaN</td>\n",
       "      <td>NaN</td>\n",
       "      <td>NaN</td>\n",
       "      <td>NaN</td>\n",
       "      <td>NaN</td>\n",
       "      <td>NaN</td>\n",
       "      <td>NaN</td>\n",
       "      <td>NaN</td>\n",
       "      <td>...</td>\n",
       "      <td>174197.0</td>\n",
       "      <td>335779.0</td>\n",
       "      <td>141676.0</td>\n",
       "      <td>119856</td>\n",
       "      <td>376664</td>\n",
       "      <td>311755</td>\n",
       "      <td>388187</td>\n",
       "      <td>20988</td>\n",
       "      <td>58492</td>\n",
       "      <td>457396</td>\n",
       "    </tr>\n",
       "    <tr>\n",
       "      <th>2</th>\n",
       "      <td>NaN</td>\n",
       "      <td>NaN</td>\n",
       "      <td>NaN</td>\n",
       "      <td>NaN</td>\n",
       "      <td>NaN</td>\n",
       "      <td>NaN</td>\n",
       "      <td>NaN</td>\n",
       "      <td>NaN</td>\n",
       "      <td>NaN</td>\n",
       "      <td>NaN</td>\n",
       "      <td>...</td>\n",
       "      <td>197937.0</td>\n",
       "      <td>311884.0</td>\n",
       "      <td>158498.0</td>\n",
       "      <td>480089</td>\n",
       "      <td>327558</td>\n",
       "      <td>470590</td>\n",
       "      <td>267240</td>\n",
       "      <td>269886</td>\n",
       "      <td>174474</td>\n",
       "      <td>187247</td>\n",
       "    </tr>\n",
       "    <tr>\n",
       "      <th>3</th>\n",
       "      <td>NaN</td>\n",
       "      <td>NaN</td>\n",
       "      <td>NaN</td>\n",
       "      <td>NaN</td>\n",
       "      <td>NaN</td>\n",
       "      <td>NaN</td>\n",
       "      <td>NaN</td>\n",
       "      <td>NaN</td>\n",
       "      <td>NaN</td>\n",
       "      <td>NaN</td>\n",
       "      <td>...</td>\n",
       "      <td>94315.0</td>\n",
       "      <td>435049.0</td>\n",
       "      <td>260359.0</td>\n",
       "      <td>163986</td>\n",
       "      <td>378960</td>\n",
       "      <td>253729</td>\n",
       "      <td>280795</td>\n",
       "      <td>429953</td>\n",
       "      <td>169130</td>\n",
       "      <td>281997</td>\n",
       "    </tr>\n",
       "    <tr>\n",
       "      <th>4</th>\n",
       "      <td>NaN</td>\n",
       "      <td>NaN</td>\n",
       "      <td>NaN</td>\n",
       "      <td>NaN</td>\n",
       "      <td>NaN</td>\n",
       "      <td>NaN</td>\n",
       "      <td>NaN</td>\n",
       "      <td>NaN</td>\n",
       "      <td>NaN</td>\n",
       "      <td>NaN</td>\n",
       "      <td>...</td>\n",
       "      <td>105248.0</td>\n",
       "      <td>279807.0</td>\n",
       "      <td>11317.0</td>\n",
       "      <td>370328</td>\n",
       "      <td>148245</td>\n",
       "      <td>123340</td>\n",
       "      <td>114957</td>\n",
       "      <td>78818</td>\n",
       "      <td>308240</td>\n",
       "      <td>60747</td>\n",
       "    </tr>\n",
       "    <tr>\n",
       "      <th>...</th>\n",
       "      <td>...</td>\n",
       "      <td>...</td>\n",
       "      <td>...</td>\n",
       "      <td>...</td>\n",
       "      <td>...</td>\n",
       "      <td>...</td>\n",
       "      <td>...</td>\n",
       "      <td>...</td>\n",
       "      <td>...</td>\n",
       "      <td>...</td>\n",
       "      <td>...</td>\n",
       "      <td>...</td>\n",
       "      <td>...</td>\n",
       "      <td>...</td>\n",
       "      <td>...</td>\n",
       "      <td>...</td>\n",
       "      <td>...</td>\n",
       "      <td>...</td>\n",
       "      <td>...</td>\n",
       "      <td>...</td>\n",
       "      <td>...</td>\n",
       "    </tr>\n",
       "    <tr>\n",
       "      <th>495</th>\n",
       "      <td>NaN</td>\n",
       "      <td>NaN</td>\n",
       "      <td>NaN</td>\n",
       "      <td>NaN</td>\n",
       "      <td>NaN</td>\n",
       "      <td>NaN</td>\n",
       "      <td>NaN</td>\n",
       "      <td>NaN</td>\n",
       "      <td>NaN</td>\n",
       "      <td>NaN</td>\n",
       "      <td>...</td>\n",
       "      <td>405936.0</td>\n",
       "      <td>232662.0</td>\n",
       "      <td>39591.0</td>\n",
       "      <td>387867</td>\n",
       "      <td>240552</td>\n",
       "      <td>320808</td>\n",
       "      <td>356190</td>\n",
       "      <td>412731</td>\n",
       "      <td>255602</td>\n",
       "      <td>400908</td>\n",
       "    </tr>\n",
       "    <tr>\n",
       "      <th>496</th>\n",
       "      <td>NaN</td>\n",
       "      <td>NaN</td>\n",
       "      <td>NaN</td>\n",
       "      <td>NaN</td>\n",
       "      <td>NaN</td>\n",
       "      <td>NaN</td>\n",
       "      <td>NaN</td>\n",
       "      <td>NaN</td>\n",
       "      <td>NaN</td>\n",
       "      <td>NaN</td>\n",
       "      <td>...</td>\n",
       "      <td>NaN</td>\n",
       "      <td>NaN</td>\n",
       "      <td>NaN</td>\n",
       "      <td>2344</td>\n",
       "      <td>441950</td>\n",
       "      <td>286818</td>\n",
       "      <td>259701</td>\n",
       "      <td>448823</td>\n",
       "      <td>462692</td>\n",
       "      <td>222315</td>\n",
       "    </tr>\n",
       "    <tr>\n",
       "      <th>497</th>\n",
       "      <td>NaN</td>\n",
       "      <td>NaN</td>\n",
       "      <td>NaN</td>\n",
       "      <td>NaN</td>\n",
       "      <td>NaN</td>\n",
       "      <td>NaN</td>\n",
       "      <td>NaN</td>\n",
       "      <td>NaN</td>\n",
       "      <td>NaN</td>\n",
       "      <td>NaN</td>\n",
       "      <td>...</td>\n",
       "      <td>211825.0</td>\n",
       "      <td>406900.0</td>\n",
       "      <td>249078.0</td>\n",
       "      <td>453411</td>\n",
       "      <td>317546</td>\n",
       "      <td>60791</td>\n",
       "      <td>221656</td>\n",
       "      <td>294183</td>\n",
       "      <td>182836</td>\n",
       "      <td>390566</td>\n",
       "    </tr>\n",
       "    <tr>\n",
       "      <th>498</th>\n",
       "      <td>NaN</td>\n",
       "      <td>NaN</td>\n",
       "      <td>NaN</td>\n",
       "      <td>NaN</td>\n",
       "      <td>NaN</td>\n",
       "      <td>NaN</td>\n",
       "      <td>NaN</td>\n",
       "      <td>NaN</td>\n",
       "      <td>NaN</td>\n",
       "      <td>NaN</td>\n",
       "      <td>...</td>\n",
       "      <td>390772.0</td>\n",
       "      <td>429544.0</td>\n",
       "      <td>97123.0</td>\n",
       "      <td>132011</td>\n",
       "      <td>358390</td>\n",
       "      <td>367311</td>\n",
       "      <td>482392</td>\n",
       "      <td>123808</td>\n",
       "      <td>268666</td>\n",
       "      <td>150950</td>\n",
       "    </tr>\n",
       "    <tr>\n",
       "      <th>499</th>\n",
       "      <td>11182.0</td>\n",
       "      <td>170418.0</td>\n",
       "      <td>370005.0</td>\n",
       "      <td>166536.0</td>\n",
       "      <td>219405.0</td>\n",
       "      <td>336526.0</td>\n",
       "      <td>267055.0</td>\n",
       "      <td>135418.0</td>\n",
       "      <td>131186.0</td>\n",
       "      <td>132243.0</td>\n",
       "      <td>...</td>\n",
       "      <td>458201.0</td>\n",
       "      <td>145604.0</td>\n",
       "      <td>459081.0</td>\n",
       "      <td>312054</td>\n",
       "      <td>329401</td>\n",
       "      <td>356082</td>\n",
       "      <td>35274</td>\n",
       "      <td>364777</td>\n",
       "      <td>174780</td>\n",
       "      <td>29824</td>\n",
       "    </tr>\n",
       "  </tbody>\n",
       "</table>\n",
       "<p>500 rows × 256 columns</p>\n",
       "</div>"
      ],
      "text/plain": [
       "           0         1         2         3         4         5         6  \\\n",
       "0        NaN       NaN       NaN       NaN       NaN       NaN       NaN   \n",
       "1        NaN       NaN       NaN       NaN       NaN       NaN       NaN   \n",
       "2        NaN       NaN       NaN       NaN       NaN       NaN       NaN   \n",
       "3        NaN       NaN       NaN       NaN       NaN       NaN       NaN   \n",
       "4        NaN       NaN       NaN       NaN       NaN       NaN       NaN   \n",
       "..       ...       ...       ...       ...       ...       ...       ...   \n",
       "495      NaN       NaN       NaN       NaN       NaN       NaN       NaN   \n",
       "496      NaN       NaN       NaN       NaN       NaN       NaN       NaN   \n",
       "497      NaN       NaN       NaN       NaN       NaN       NaN       NaN   \n",
       "498      NaN       NaN       NaN       NaN       NaN       NaN       NaN   \n",
       "499  11182.0  170418.0  370005.0  166536.0  219405.0  336526.0  267055.0   \n",
       "\n",
       "            7         8         9  ...       246       247       248     249  \\\n",
       "0         NaN       NaN       NaN  ...  122447.0  319811.0  352770.0  196872   \n",
       "1         NaN       NaN       NaN  ...  174197.0  335779.0  141676.0  119856   \n",
       "2         NaN       NaN       NaN  ...  197937.0  311884.0  158498.0  480089   \n",
       "3         NaN       NaN       NaN  ...   94315.0  435049.0  260359.0  163986   \n",
       "4         NaN       NaN       NaN  ...  105248.0  279807.0   11317.0  370328   \n",
       "..        ...       ...       ...  ...       ...       ...       ...     ...   \n",
       "495       NaN       NaN       NaN  ...  405936.0  232662.0   39591.0  387867   \n",
       "496       NaN       NaN       NaN  ...       NaN       NaN       NaN    2344   \n",
       "497       NaN       NaN       NaN  ...  211825.0  406900.0  249078.0  453411   \n",
       "498       NaN       NaN       NaN  ...  390772.0  429544.0   97123.0  132011   \n",
       "499  135418.0  131186.0  132243.0  ...  458201.0  145604.0  459081.0  312054   \n",
       "\n",
       "        250     251     252     253     254     255  \n",
       "0     95202  159637  470957  102795  278503  388242  \n",
       "1    376664  311755  388187   20988   58492  457396  \n",
       "2    327558  470590  267240  269886  174474  187247  \n",
       "3    378960  253729  280795  429953  169130  281997  \n",
       "4    148245  123340  114957   78818  308240   60747  \n",
       "..      ...     ...     ...     ...     ...     ...  \n",
       "495  240552  320808  356190  412731  255602  400908  \n",
       "496  441950  286818  259701  448823  462692  222315  \n",
       "497  317546   60791  221656  294183  182836  390566  \n",
       "498  358390  367311  482392  123808  268666  150950  \n",
       "499  329401  356082   35274  364777  174780   29824  \n",
       "\n",
       "[500 rows x 256 columns]"
      ]
     },
     "execution_count": 36,
     "metadata": {},
     "output_type": "execute_result"
    }
   ],
   "source": [
    "df"
   ]
  },
  {
   "cell_type": "code",
   "execution_count": 52,
   "id": "3cfc941d",
   "metadata": {},
   "outputs": [],
   "source": [
    "bigset = set()\n",
    "for x in df:\n",
    "    s = [int(x) for x in df[str(x)].values if pd.notna(x)]\n",
    "    bigset.update(s)"
   ]
  },
  {
   "cell_type": "code",
   "execution_count": 53,
   "id": "a2e605bb",
   "metadata": {},
   "outputs": [
    {
     "data": {
      "text/plain": [
       "24493"
      ]
     },
     "execution_count": 53,
     "metadata": {},
     "output_type": "execute_result"
    }
   ],
   "source": [
    "len(bigset)"
   ]
  },
  {
   "cell_type": "code",
   "execution_count": 54,
   "id": "7d1f8455",
   "metadata": {},
   "outputs": [],
   "source": [
    "track_csv_path = 'track_artists.csv'\n",
    "class ProductEncoder:\n",
    "    def __init__(self, track_csv_path):\n",
    "        self.track_idx = {}\n",
    "        self.track_pid = {}\n",
    "        for idx, pid in enumerate(pd.read_csv(track_csv_path).trackId.values):\n",
    "            self.track_idx[pid] = idx\n",
    "            self.track_pid[idx] = pid\n",
    "\n",
    "    def toIdx(self, x):\n",
    "        if type(x) == str:\n",
    "            pid = x\n",
    "            return self.track_idx[pid]\n",
    "        return [self.track_idx[pid] for pid in x]\n",
    "\n",
    "    def toPid(self, x):\n",
    "        if type(x) == int:\n",
    "            idx = x\n",
    "            return self.track_pid[idx]\n",
    "        return [self.track_pid[idx] for idx in x]\n",
    "\n",
    "    @property\n",
    "    def num_products(self):\n",
    "        return len(self.track_idx)"
   ]
  },
  {
   "cell_type": "code",
   "execution_count": 104,
   "id": "077b6d4d",
   "metadata": {},
   "outputs": [],
   "source": [
    "def make_coo_row(tracks_history, product_encoder: ProductEncoder):\n",
    "    idx = []\n",
    "    values = []\n",
    "\n",
    "    items = []\n",
    "    items.extend([trans['id'] for trans in tracks_history])\n",
    "    n_items = len(items)\n",
    "\n",
    "    for pid in items:\n",
    "        idx.append(product_encoder.toIdx(pid))\n",
    "        values.append(1.0)\n",
    "\n",
    "    return sp.coo_matrix(\n",
    "        (np.array(values).astype(np.float32), ([0] * len(idx), idx)), shape=(1, product_encoder.num_products),\n",
    "    )"
   ]
  },
  {
   "cell_type": "code",
   "execution_count": 105,
   "id": "29293287",
   "metadata": {},
   "outputs": [],
   "source": [
    "product_encoder = ProductEncoder(track_csv_path)"
   ]
  },
  {
   "cell_type": "code",
   "execution_count": 106,
   "id": "eabc01d0",
   "metadata": {},
   "outputs": [],
   "source": [
    "def get_shard_path(n_shard, jsons_dir='json'):\n",
    "    return \"{}/{:02d}.jsons\".format(jsons_dir, n_shard)"
   ]
  },
  {
   "cell_type": "code",
   "execution_count": 107,
   "id": "2cf715cc",
   "metadata": {},
   "outputs": [
    {
     "name": "stderr",
     "output_type": "stream",
     "text": [
      "0it [00:00, ?it/s]\n"
     ]
    },
    {
     "ename": "TypeError",
     "evalue": "'int' object is not iterable",
     "output_type": "error",
     "traceback": [
      "\u001b[0;31m---------------------------------------------------------------------------\u001b[0m",
      "\u001b[0;31mTypeError\u001b[0m                                 Traceback (most recent call last)",
      "\u001b[0;32m/tmp/ipykernel_39847/193222066.py\u001b[0m in \u001b[0;36m<module>\u001b[0;34m\u001b[0m\n\u001b[1;32m      3\u001b[0m     \u001b[0;32mfor\u001b[0m \u001b[0mjs\u001b[0m \u001b[0;32min\u001b[0m \u001b[0mtqdm\u001b[0m\u001b[0;34m(\u001b[0m\u001b[0;34m(\u001b[0m\u001b[0mjson\u001b[0m\u001b[0;34m.\u001b[0m\u001b[0mloads\u001b[0m\u001b[0;34m(\u001b[0m\u001b[0ms\u001b[0m\u001b[0;34m)\u001b[0m \u001b[0;32mfor\u001b[0m \u001b[0ms\u001b[0m \u001b[0;32min\u001b[0m \u001b[0mopen\u001b[0m\u001b[0;34m(\u001b[0m\u001b[0mget_shard_path\u001b[0m\u001b[0;34m(\u001b[0m\u001b[0mi\u001b[0m\u001b[0;34m)\u001b[0m\u001b[0;34m)\u001b[0m\u001b[0;34m)\u001b[0m\u001b[0;34m)\u001b[0m\u001b[0;34m:\u001b[0m\u001b[0;34m\u001b[0m\u001b[0;34m\u001b[0m\u001b[0m\n\u001b[1;32m      4\u001b[0m \u001b[0;31m#         print(js['tracks'])\u001b[0m\u001b[0;34m\u001b[0m\u001b[0;34m\u001b[0m\u001b[0m\n\u001b[0;32m----> 5\u001b[0;31m         \u001b[0mrows\u001b[0m\u001b[0;34m.\u001b[0m\u001b[0mappend\u001b[0m\u001b[0;34m(\u001b[0m\u001b[0mmake_coo_row\u001b[0m\u001b[0;34m(\u001b[0m\u001b[0mjs\u001b[0m\u001b[0;34m[\u001b[0m\u001b[0;34m'tracks'\u001b[0m\u001b[0;34m]\u001b[0m\u001b[0;34m,\u001b[0m \u001b[0mproduct_encoder\u001b[0m\u001b[0;34m)\u001b[0m\u001b[0;34m)\u001b[0m\u001b[0;34m\u001b[0m\u001b[0;34m\u001b[0m\u001b[0m\n\u001b[0m\u001b[1;32m      6\u001b[0m \u001b[0mtrain_mat\u001b[0m \u001b[0;34m=\u001b[0m \u001b[0msp\u001b[0m\u001b[0;34m.\u001b[0m\u001b[0mvstack\u001b[0m\u001b[0;34m(\u001b[0m\u001b[0mrows\u001b[0m\u001b[0;34m)\u001b[0m\u001b[0;34m\u001b[0m\u001b[0;34m\u001b[0m\u001b[0m\n",
      "\u001b[0;32m/tmp/ipykernel_39847/1635391380.py\u001b[0m in \u001b[0;36mmake_coo_row\u001b[0;34m(tracks_history, product_encoder)\u001b[0m\n\u001b[1;32m      8\u001b[0m \u001b[0;34m\u001b[0m\u001b[0m\n\u001b[1;32m      9\u001b[0m     \u001b[0;32mfor\u001b[0m \u001b[0mpid\u001b[0m \u001b[0;32min\u001b[0m \u001b[0mitems\u001b[0m\u001b[0;34m:\u001b[0m\u001b[0;34m\u001b[0m\u001b[0;34m\u001b[0m\u001b[0m\n\u001b[0;32m---> 10\u001b[0;31m         \u001b[0midx\u001b[0m\u001b[0;34m.\u001b[0m\u001b[0mappend\u001b[0m\u001b[0;34m(\u001b[0m\u001b[0mproduct_encoder\u001b[0m\u001b[0;34m.\u001b[0m\u001b[0mtoIdx\u001b[0m\u001b[0;34m(\u001b[0m\u001b[0mpid\u001b[0m\u001b[0;34m)\u001b[0m\u001b[0;34m)\u001b[0m\u001b[0;34m\u001b[0m\u001b[0;34m\u001b[0m\u001b[0m\n\u001b[0m\u001b[1;32m     11\u001b[0m         \u001b[0mvalues\u001b[0m\u001b[0;34m.\u001b[0m\u001b[0mappend\u001b[0m\u001b[0;34m(\u001b[0m\u001b[0;36m1.0\u001b[0m\u001b[0;34m)\u001b[0m\u001b[0;34m\u001b[0m\u001b[0;34m\u001b[0m\u001b[0m\n\u001b[1;32m     12\u001b[0m \u001b[0;34m\u001b[0m\u001b[0m\n",
      "\u001b[0;32m/tmp/ipykernel_39847/3104864003.py\u001b[0m in \u001b[0;36mtoIdx\u001b[0;34m(self, x)\u001b[0m\n\u001b[1;32m     12\u001b[0m             \u001b[0mpid\u001b[0m \u001b[0;34m=\u001b[0m \u001b[0mx\u001b[0m\u001b[0;34m\u001b[0m\u001b[0;34m\u001b[0m\u001b[0m\n\u001b[1;32m     13\u001b[0m             \u001b[0;32mreturn\u001b[0m \u001b[0mself\u001b[0m\u001b[0;34m.\u001b[0m\u001b[0mtrack_idx\u001b[0m\u001b[0;34m[\u001b[0m\u001b[0mpid\u001b[0m\u001b[0;34m]\u001b[0m\u001b[0;34m\u001b[0m\u001b[0;34m\u001b[0m\u001b[0m\n\u001b[0;32m---> 14\u001b[0;31m         \u001b[0;32mreturn\u001b[0m \u001b[0;34m[\u001b[0m\u001b[0mself\u001b[0m\u001b[0;34m.\u001b[0m\u001b[0mtrack_idx\u001b[0m\u001b[0;34m[\u001b[0m\u001b[0mpid\u001b[0m\u001b[0;34m]\u001b[0m \u001b[0;32mfor\u001b[0m \u001b[0mpid\u001b[0m \u001b[0;32min\u001b[0m \u001b[0mx\u001b[0m\u001b[0;34m]\u001b[0m\u001b[0;34m\u001b[0m\u001b[0;34m\u001b[0m\u001b[0m\n\u001b[0m\u001b[1;32m     15\u001b[0m \u001b[0;34m\u001b[0m\u001b[0m\n\u001b[1;32m     16\u001b[0m     \u001b[0;32mdef\u001b[0m \u001b[0mtoPid\u001b[0m\u001b[0;34m(\u001b[0m\u001b[0mself\u001b[0m\u001b[0;34m,\u001b[0m \u001b[0mx\u001b[0m\u001b[0;34m)\u001b[0m\u001b[0;34m:\u001b[0m\u001b[0;34m\u001b[0m\u001b[0;34m\u001b[0m\u001b[0m\n",
      "\u001b[0;31mTypeError\u001b[0m: 'int' object is not iterable"
     ]
    }
   ],
   "source": [
    "rows = []\n",
    "for i in range(8):\n",
    "    for js in tqdm((json.loads(s) for s in open(get_shard_path(i)))):\n",
    "#         print(js['tracks'])\n",
    "        rows.append(make_coo_row(js['tracks'], product_encoder))\n",
    "train_mat = sp.vstack(rows)"
   ]
  },
  {
   "cell_type": "code",
   "execution_count": null,
   "id": "b095eb3f",
   "metadata": {},
   "outputs": [],
   "source": []
  }
 ],
 "metadata": {
  "kernelspec": {
   "display_name": "Python 3 (ipykernel)",
   "language": "python",
   "name": "python3"
  },
  "language_info": {
   "codemirror_mode": {
    "name": "ipython",
    "version": 3
   },
   "file_extension": ".py",
   "mimetype": "text/x-python",
   "name": "python",
   "nbconvert_exporter": "python",
   "pygments_lexer": "ipython3",
   "version": "3.10.7"
  }
 },
 "nbformat": 4,
 "nbformat_minor": 5
}
